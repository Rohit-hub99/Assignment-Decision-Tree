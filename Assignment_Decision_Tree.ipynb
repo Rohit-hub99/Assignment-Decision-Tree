{
  "nbformat": 4,
  "nbformat_minor": 0,
  "metadata": {
    "colab": {
      "provenance": []
    },
    "kernelspec": {
      "name": "python3",
      "display_name": "Python 3"
    },
    "language_info": {
      "name": "python"
    }
  },
  "cells": [
    {
      "cell_type": "markdown",
      "source": [
        "Theoretical Questiosn and Answers"
      ],
      "metadata": {
        "id": "xtugThU6zC5i"
      }
    },
    {
      "cell_type": "markdown",
      "source": [
        "# 1. What is a Decision Tree, and how does it work ?\n",
        "  - A Decision Tree is a supervised machine learning algorithm used for classification and regression.\n",
        "  \n",
        "  - It works by splitting the dataset into subsets based on feature values, using decision nodes and leaf nodes:\n",
        "    - Root Node: The top-most node representing the entire dataset.\n",
        "    - Decision Node: A node that splits the data based on a condition.\n",
        "    - Leaf Node: A terminal node that gives the final output (class or value).\n",
        "\n",
        "\n",
        "\n",
        "# 2. What are impurity measures in Decision Trees ?\n",
        "  - Impurity measures in Decision Trees quantify how mixed the classes are at a node. Common ones:\n",
        "    - Gini Impurity: Measures the probability of misclassification\n",
        "    - Entropy: Measures information gain\n",
        "    - Mean Squared Error (MSE): Used in regression trees to measure variance\n",
        "\n",
        "\n",
        "\n",
        "\n",
        "# 3. What is the mathematical formula for Gini Impurity\t?\n",
        "  - Gini Impurity is calculated as one minus the sum of the squares of the probabilities of each class in a node.\n",
        "\n",
        "  - Where:\n",
        "    - p\n",
        "i\n",
        "​\n",
        "  = proportion of instances belonging to class\n",
        "𝑖\n",
        "i\n",
        "    - n = number of classes\n",
        "\n",
        "\n",
        "\n",
        "\n",
        "# 4. What is the mathematical formula for Entropy\t?\n",
        "  - Entropy is calculated as the negative sum of each class's probability multiplied by the log base 2 of that probability.\n",
        "  \n",
        "  - where:\n",
        "    - p\n",
        "i\n",
        "​\n",
        "  = proportion of instances in class\n",
        "𝑖\n",
        "i\n",
        "    - n = number of classes\n",
        "\n",
        "\n",
        "\n",
        "\n",
        "\n",
        "# 5. What is Information Gain, and how is it used in Decision Trees\t?\n",
        "  - Information Gain measures the reduction in entropy after splitting a dataset based on a feature.\n",
        "\n",
        "  - In Decision Trees, the feature with the highest Information Gain is chosen to split the data at each node.\n",
        "\n",
        "\n",
        "\n",
        "\n",
        "\n",
        "# 6. What is the difference between Gini Impurity and Entropy\t?\n",
        "  - Gini Impurity measures the likelihood of a wrong classification, with a value between 0 (pure) and 1 (impure).\n",
        "  - Entropy measures the amount of uncertainty or disorder, with a value between 0 (pure) and\n",
        "  - Gini is faster to compute.\n",
        "  - Entropy is more sensitive to class distribution.\n",
        "\n",
        "\n",
        "\n",
        "\n",
        "\n",
        "# 7. What is the mathematical explanation behind Decision Trees\t?\n",
        "  - The mathematical explanation behind Decision Trees involves splitting the data at each node to minimize impurity (Gini or Entropy) and maximize the information gain. Here's a breakdown:\n",
        "   \n",
        "    - Start at the Root: The entire dataset is at the root node.\n",
        "    \n",
        "    - Choose a Split: At each node, the feature that best splits the data (minimizes impurity) is selected.\n",
        "       - For classification, Gini Impurity or Entropy is used to calculate the impurity.\n",
        "       - For regression, Mean Squared Error (MSE) is used.\n",
        "    - Calculate Impurity: After choosing a split, the data is divided into child nodes, and impurity is calculated for each.\n",
        "    - Select the Best Split: The feature and threshold that lead to the best reduction in impurity (or increase in information gain) are selected.\n",
        "    - Repeat: This process is recursively repeated until a stopping criterion (maximum depth, minimum samples per leaf, or no improvement in impurity) is met.\n",
        "\n",
        "\n",
        "\n",
        "\n",
        "\n",
        "\n",
        "# 8. What is Pre-Pruning in Decision Trees ?\n",
        "  - Pre-Pruning in Decision Trees involves stopping the tree from growing further before it reaches the maximum depth. This is done by setting conditions such as:\n",
        "\n",
        "    - Maximum tree depth\n",
        "    - Minimum samples required to split a node\n",
        "    - Minimum samples per leaf\n",
        "    - Maximum number of leaf nodes\n",
        "\n",
        "\n",
        "\n",
        "\n",
        "# 9. What is Post-Pruning in Decision Trees\t?\n",
        "  - Post-Pruning in Decision Trees involves growing the tree fully and then removing branches that do not provide significant predictive power. This is done by:\n",
        "\n",
        "    - Building the full tree without any stopping conditions.\n",
        "    - Pruning or cutting back branches that have little impact on the model’s performance, typically using techniques like cost-complexity pruning (also known as weakest link pruning).\n",
        "    - The goal is to reduce overfitting by simplifying the tree while maintaining accuracy.\n",
        "\n",
        "\n",
        "\n",
        "\n",
        "# 10. What is the difference between Pre-Pruning and Post-Pruning\t?\n",
        "  - Pre-Pruning: Involves stopping the tree growth early by setting conditions (e.g., maximum depth, minimum samples per split) to prevent overfitting during the tree construction phase.\n",
        "\n",
        "  - Post-Pruning: Involves building the tree fully and then removing branches that don’t improve performance, helping to simplify the tree and reduce overfitting.\n",
        "\n",
        "  - Pre-pruning controls tree growth from the start\n",
        "\n",
        "  - post-pruning trims the tree after it's fully grown.\n",
        "\n",
        "\n",
        "\n",
        "\n",
        "\n",
        "\n",
        "# 11. What is a Decision Tree Regressor\t?\n",
        "  - A Decision Tree Regressor is a type of decision tree algorithm used for regression tasks, where the target variable is continuous. It splits the dataset based on feature values, predicting a numerical value at the leaf nodes by averaging the target values of the data points in each leaf.\n",
        "\n",
        "  - The tree is built by minimizing the Mean Squared Error (MSE) or other similar metrics to find the best splits.\n",
        "\n",
        "\n",
        "\n",
        "\n",
        "\n",
        "# 12. What are the advantages and disadvantages of Decision Trees\t?\n",
        "  - Advantages of Decision Trees:\n",
        "    - Easy to Understand and Interpret: Visual representation of decisions is simple.\n",
        "    - No Feature Scaling Required: Decision trees don’t require normalization or standardization of data.\n",
        "    - Handles Both Numerical and Categorical Data: Can work with both types of data.\n",
        "\n",
        "  - Disadvantages of Decision Trees:\n",
        "    - Overfitting: Can create overly complex trees that fit noise in the data, especially with deep trees.\n",
        "    - Instability: Small changes in the data can lead to a completely different tree.\n",
        "    - Bias: Tends to favor features with more levels (categories) or more variance.\n",
        "\n",
        "\n",
        "\n",
        "\n",
        "\n",
        "# 13.  How does a Decision Tree handle missing values\t?\n",
        "  - Ignore Missing Data: It can ignore rows with missing values during the tree construction, but this may lead to data loss.\n",
        "\n",
        "  - Surrogate Splits: When a feature value is missing, the tree may use a surrogate split—another feature that best mimics the behavior of the primary split for those instances.\n",
        "\n",
        "  - Imputation: Missing values can be imputed (filled) with the most frequent value (for categorical data) or the mean/median (for numerical data) before building the tree.\n",
        "\n",
        "\n",
        "\n",
        "\n",
        "\n",
        "# 14.  How does a Decision Tree handle categorical features\t?\n",
        "  - A Decision Tree handles categorical features by:\n",
        "    \n",
        "    - Splitting on Categories: The tree can directly split on the different categories (values) of a categorical feature. For example, if a feature has categories like \"Red,\" \"Blue,\" and \"Green,\" the tree can create separate branches for each category.\n",
        "\n",
        "    - Binary Splits: For features with multiple categories, the tree may perform a binary split by grouping categories into two subsets (e.g., \"Red or Blue\" vs. \"Green\").\n",
        "\n",
        "    - Handling Ordinal Features: For ordinal categorical features (with a meaningful order), the tree can treat them similarly to continuous features, making splits based on the order of the categories.\n",
        "\n",
        "\n",
        "\n",
        "\n",
        "\n",
        "# 15. What are some real-world applications of Decision Trees ?\n",
        "  - Real-world applications of Decision Trees include:\n",
        "    - Medical Diagnosis: Classifying diseases based on symptoms and test results.\n",
        "\n",
        "    - Credit Scoring: Evaluating loan eligibility and credit risk.\n",
        "\n",
        "    - Customer Segmentation: Identifying customer groups for marketing strategies.\n",
        "\n",
        "    - Fraud Detection: Detecting suspicious transactions or activities.\n",
        "\n",
        "    - Sales Prediction: Forecasting product demand or revenue.\n",
        "\n",
        "    - Manufacturing: Predictive maintenance and quality control.\n",
        "\n",
        "    - HR Analytics: Predicting employee attrition or performance.\n",
        "\n",
        "\n",
        "    "
      ],
      "metadata": {
        "id": "vutrpKdT1OWA"
      }
    },
    {
      "cell_type": "markdown",
      "source": [
        "Practical Questions and answers"
      ],
      "metadata": {
        "id": "ST33Ac7SI4ZA"
      }
    },
    {
      "cell_type": "code",
      "source": [
        "# 16. Write a Python program to train a Decision Tree Classifier on the Iris dataset and print the model accuracy\n",
        "\n",
        "import pandas as pd\n",
        "import numpy as np\n",
        "from sklearn.datasets import load_iris\n",
        "from sklearn.tree import DecisionTreeClassifier\n",
        "from sklearn.model_selection import train_test_split\n",
        "from sklearn.metrics import accuracy_score\n",
        "\n",
        "# Load the Iris dataset\n",
        "iris = load_iris()\n",
        "X = iris.data\n",
        "y = iris.target\n",
        "\n",
        "# Split into training and test sets\n",
        "X_train, X_test, y_train, y_test = train_test_split(X, y, test_size=0.2, random_state=42)\n",
        "\n",
        "# Create and train the Decision Tree Classifier\n",
        "clf = DecisionTreeClassifier()\n",
        "clf.fit(X_train, y_train)\n",
        "\n",
        "# Predict on the test set\n",
        "y_pred = clf.predict(X_test)\n",
        "\n",
        "# Calculate and print accuracy\n",
        "accuracy = accuracy_score(y_test, y_pred)\n",
        "print(f\"Model Accuracy: {accuracy:.2f}\")\n"
      ],
      "metadata": {
        "colab": {
          "base_uri": "https://localhost:8080/"
        },
        "id": "gfBPh_dAI7nX",
        "outputId": "604e5f96-5ecc-4229-bd37-fe2e27e309ea"
      },
      "execution_count": 1,
      "outputs": [
        {
          "output_type": "stream",
          "name": "stdout",
          "text": [
            "Model Accuracy: 1.00\n"
          ]
        }
      ]
    },
    {
      "cell_type": "code",
      "source": [
        "# 17. Write a Python program to train a Decision Tree Classifier using Gini Impurity as the criterion and print the feature importances\n",
        "\n",
        "from sklearn.datasets import load_iris\n",
        "from sklearn.tree import DecisionTreeClassifier\n",
        "\n",
        "# Load the Iris dataset\n",
        "iris = load_iris()\n",
        "X = iris.data\n",
        "y = iris.target\n",
        "\n",
        "# Create and train the Decision Tree Classifier using Gini\n",
        "clf = DecisionTreeClassifier(criterion='gini', random_state=42)\n",
        "clf.fit(X, y)\n",
        "\n",
        "# Print feature importances\n",
        "for feature_name, importance in zip(iris.feature_names, clf.feature_importances_):\n",
        "    print(f\"{feature_name}: {importance:.4f}\")\n"
      ],
      "metadata": {
        "colab": {
          "base_uri": "https://localhost:8080/"
        },
        "id": "vKCBHTiJJNWD",
        "outputId": "ce8be71a-3822-45c1-8837-912841e11a99"
      },
      "execution_count": 2,
      "outputs": [
        {
          "output_type": "stream",
          "name": "stdout",
          "text": [
            "sepal length (cm): 0.0133\n",
            "sepal width (cm): 0.0000\n",
            "petal length (cm): 0.5641\n",
            "petal width (cm): 0.4226\n"
          ]
        }
      ]
    },
    {
      "cell_type": "code",
      "source": [
        "# 18. Write a Python program to train a Decision Tree Classifier using Entropy as the splitting criterion and print the model accuracy\n",
        "\n",
        "from sklearn.datasets import load_iris\n",
        "from sklearn.tree import DecisionTreeClassifier\n",
        "from sklearn.model_selection import train_test_split\n",
        "from sklearn.metrics import accuracy_score\n",
        "\n",
        "# Load the Iris dataset\n",
        "iris = load_iris()\n",
        "X = iris.data\n",
        "y = iris.target\n",
        "\n",
        "# Split into training and testing sets\n",
        "X_train, X_test, y_train, y_test = train_test_split(X, y, test_size=0.2, random_state=42)\n",
        "\n",
        "# Train Decision Tree Classifier with Entropy\n",
        "clf = DecisionTreeClassifier(criterion='entropy', random_state=42)\n",
        "clf.fit(X_train, y_train)\n",
        "\n",
        "# Predict and calculate accuracy\n",
        "y_pred = clf.predict(X_test)\n",
        "accuracy = accuracy_score(y_test, y_pred)\n",
        "print(f\"Model Accuracy (using Entropy): {accuracy:.2f}\")\n"
      ],
      "metadata": {
        "colab": {
          "base_uri": "https://localhost:8080/"
        },
        "id": "ju_bpBRTJhQD",
        "outputId": "0435d437-47b4-470a-ec81-56df2d326ea7"
      },
      "execution_count": 3,
      "outputs": [
        {
          "output_type": "stream",
          "name": "stdout",
          "text": [
            "Model Accuracy (using Entropy): 1.00\n"
          ]
        }
      ]
    },
    {
      "cell_type": "code",
      "source": [
        "# 19. Write a Python program to train a Decision Tree Regressor on a housing dataset and evaluate using Mean Squared Error (MSE)\n",
        "\n",
        "from sklearn.datasets import fetch_california_housing\n",
        "from sklearn.tree import DecisionTreeRegressor\n",
        "from sklearn.model_selection import train_test_split\n",
        "from sklearn.metrics import mean_squared_error\n",
        "\n",
        "# Load the California housing dataset\n",
        "housing = fetch_california_housing()\n",
        "X = housing.data\n",
        "y = housing.target\n",
        "\n",
        "# Split into training and testing sets\n",
        "X_train, X_test, y_train, y_test = train_test_split(X, y, test_size=0.2, random_state=42)\n",
        "\n",
        "# Train Decision Tree Regressor\n",
        "regressor = DecisionTreeRegressor(random_state=42)\n",
        "regressor.fit(X_train, y_train)\n",
        "\n",
        "# Predict and evaluate using MSE\n",
        "y_pred = regressor.predict(X_test)\n",
        "mse = mean_squared_error(y_test, y_pred)\n",
        "print(f\"Mean Squared Error: {mse:.2f}\")\n"
      ],
      "metadata": {
        "colab": {
          "base_uri": "https://localhost:8080/"
        },
        "id": "ApnRYt3ZJwxQ",
        "outputId": "307f1b9b-cdbf-45d9-d47f-4a2e0579e776"
      },
      "execution_count": 4,
      "outputs": [
        {
          "output_type": "stream",
          "name": "stdout",
          "text": [
            "Mean Squared Error: 0.50\n"
          ]
        }
      ]
    },
    {
      "cell_type": "code",
      "source": [
        "# 20. Write a Python program to train a Decision Tree Classifier and visualize the tree using graphviz\n",
        "!pip install graphviz\n",
        "from sklearn.datasets import load_iris\n",
        "from sklearn.tree import DecisionTreeClassifier, export_graphviz\n",
        "import graphviz\n",
        "\n",
        "# Load Iris dataset\n",
        "iris = load_iris()\n",
        "X = iris.data\n",
        "y = iris.target\n",
        "\n",
        "# Train Decision Tree Classifier\n",
        "clf = DecisionTreeClassifier(criterion='gini', random_state=42)\n",
        "clf.fit(X, y)\n",
        "\n",
        "# Export tree to DOT format\n",
        "dot_data = export_graphviz(\n",
        "    clf,\n",
        "    out_file=None,\n",
        "    feature_names=iris.feature_names,\n",
        "    class_names=iris.target_names,\n",
        "    filled=True,\n",
        "    rounded=True,\n",
        "    special_characters=True\n",
        ")\n",
        "\n",
        "# Visualize using graphviz\n",
        "graph = graphviz.Source(dot_data)\n",
        "graph.render(\"iris_tree\", format=\"png\", cleanup=True)  # Saves as iris_tree.png\n",
        "graph.view(\"iris_tree\")  # Opens the image\n"
      ],
      "metadata": {
        "colab": {
          "base_uri": "https://localhost:8080/",
          "height": 52
        },
        "id": "f2Nwa7qJKGze",
        "outputId": "dbc7c0ae-740f-408f-c3d1-85beae25dfaa"
      },
      "execution_count": 6,
      "outputs": [
        {
          "output_type": "stream",
          "name": "stdout",
          "text": [
            "Requirement already satisfied: graphviz in /usr/local/lib/python3.11/dist-packages (0.20.3)\n"
          ]
        },
        {
          "output_type": "execute_result",
          "data": {
            "text/plain": [
              "'iris_tree.pdf'"
            ],
            "application/vnd.google.colaboratory.intrinsic+json": {
              "type": "string"
            }
          },
          "metadata": {},
          "execution_count": 6
        }
      ]
    },
    {
      "cell_type": "code",
      "source": [
        "# 21. Write a Python program to train a Decision Tree Classifier with a maximum depth of 3 and compare its accuracy with a fully grown tree\n",
        "\n",
        "from sklearn.datasets import load_iris\n",
        "from sklearn.tree import DecisionTreeClassifier\n",
        "from sklearn.model_selection import train_test_split\n",
        "from sklearn.metrics import accuracy_score\n",
        "\n",
        "# Load the Iris dataset\n",
        "iris = load_iris()\n",
        "X = iris.data\n",
        "y = iris.target\n",
        "\n",
        "# Split data into training and testing sets\n",
        "X_train, X_test, y_train, y_test = train_test_split(X, y, test_size=0.2, random_state=42)\n",
        "\n",
        "# Train tree with max_depth = 3\n",
        "clf_limited = DecisionTreeClassifier(max_depth=3, random_state=42)\n",
        "clf_limited.fit(X_train, y_train)\n",
        "y_pred_limited = clf_limited.predict(X_test)\n",
        "acc_limited = accuracy_score(y_test, y_pred_limited)\n",
        "\n",
        "# Train fully grown tree\n",
        "clf_full = DecisionTreeClassifier(random_state=42)\n",
        "clf_full.fit(X_train, y_train)\n",
        "y_pred_full = clf_full.predict(X_test)\n",
        "acc_full = accuracy_score(y_test, y_pred_full)\n",
        "\n",
        "# Print accuracies\n",
        "print(f\"Accuracy with max_depth=3: {acc_limited:.2f}\")\n",
        "print(f\"Accuracy with full tree:   {acc_full:.2f}\")\n"
      ],
      "metadata": {
        "colab": {
          "base_uri": "https://localhost:8080/"
        },
        "id": "uON7_z1uKQV9",
        "outputId": "f701e4cf-5700-4947-d350-24bcc8daebf3"
      },
      "execution_count": 7,
      "outputs": [
        {
          "output_type": "stream",
          "name": "stdout",
          "text": [
            "Accuracy with max_depth=3: 1.00\n",
            "Accuracy with full tree:   1.00\n"
          ]
        }
      ]
    },
    {
      "cell_type": "code",
      "source": [
        "# 22. Write a Python program to train a Decision Tree Classifier using min_samples_split=5 and compare its accuracy with a default tree\n",
        "\n",
        "from sklearn.datasets import load_iris\n",
        "from sklearn.tree import DecisionTreeClassifier\n",
        "from sklearn.model_selection import train_test_split\n",
        "from sklearn.metrics import accuracy_score\n",
        "\n",
        "# Load Iris dataset\n",
        "iris = load_iris()\n",
        "X = iris.data\n",
        "y = iris.target\n",
        "\n",
        "# Train/test split\n",
        "X_train, X_test, y_train, y_test = train_test_split(X, y, test_size=0.2, random_state=42)\n",
        "\n",
        "# Decision Tree with min_samples_split=5\n",
        "clf_split5 = DecisionTreeClassifier(min_samples_split=5, random_state=42)\n",
        "clf_split5.fit(X_train, y_train)\n",
        "y_pred_split5 = clf_split5.predict(X_test)\n",
        "acc_split5 = accuracy_score(y_test, y_pred_split5)\n",
        "\n",
        "# Default Decision Tree\n",
        "clf_default = DecisionTreeClassifier(random_state=42)\n",
        "clf_default.fit(X_train, y_train)\n",
        "y_pred_default = clf_default.predict(X_test)\n",
        "acc_default = accuracy_score(y_test, y_pred_default)\n",
        "\n",
        "# Print accuracy comparison\n",
        "print(f\"Accuracy with min_samples_split=5: {acc_split5:.2f}\")\n",
        "print(f\"Accuracy with default settings:     {acc_default:.2f}\")\n"
      ],
      "metadata": {
        "colab": {
          "base_uri": "https://localhost:8080/"
        },
        "id": "-07TgTIuKro5",
        "outputId": "a39462dc-856a-42dc-f8ae-569435c35fde"
      },
      "execution_count": 8,
      "outputs": [
        {
          "output_type": "stream",
          "name": "stdout",
          "text": [
            "Accuracy with min_samples_split=5: 1.00\n",
            "Accuracy with default settings:     1.00\n"
          ]
        }
      ]
    },
    {
      "cell_type": "code",
      "source": [
        "# 23. Write a Python program to apply feature scaling before training a Decision Tree Classifier and compare its accuracy with unscaled data\n",
        "\n",
        "from sklearn.datasets import load_iris\n",
        "from sklearn.tree import DecisionTreeClassifier\n",
        "from sklearn.model_selection import train_test_split\n",
        "from sklearn.preprocessing import StandardScaler\n",
        "from sklearn.metrics import accuracy_score\n",
        "\n",
        "# Load dataset\n",
        "iris = load_iris()\n",
        "X = iris.data\n",
        "y = iris.target\n",
        "\n",
        "# Train/test split\n",
        "X_train, X_test, y_train, y_test = train_test_split(X, y, test_size=0.2, random_state=42)\n",
        "\n",
        "# ----------- Without Feature Scaling -----------\n",
        "clf_unscaled = DecisionTreeClassifier(random_state=42)\n",
        "clf_unscaled.fit(X_train, y_train)\n",
        "y_pred_unscaled = clf_unscaled.predict(X_test)\n",
        "acc_unscaled = accuracy_score(y_test, y_pred_unscaled)\n",
        "\n",
        "# ----------- With Feature Scaling -----------\n",
        "scaler = StandardScaler()\n",
        "X_train_scaled = scaler.fit_transform(X_train)\n",
        "X_test_scaled = scaler.transform(X_test)\n",
        "\n",
        "clf_scaled = DecisionTreeClassifier(random_state=42)\n",
        "clf_scaled.fit(X_train_scaled, y_train)\n",
        "y_pred_scaled = clf_scaled.predict(X_test_scaled)\n",
        "acc_scaled = accuracy_score(y_test, y_pred_scaled)\n",
        "\n",
        "# Print results\n",
        "print(f\"Accuracy without scaling: {acc_unscaled:.2f}\")\n",
        "print(f\"Accuracy with scaling:    {acc_scaled:.2f}\")\n"
      ],
      "metadata": {
        "colab": {
          "base_uri": "https://localhost:8080/"
        },
        "id": "bPSdM0K0LhzQ",
        "outputId": "21b0956c-30c5-471a-9dc4-a35b758d849d"
      },
      "execution_count": 9,
      "outputs": [
        {
          "output_type": "stream",
          "name": "stdout",
          "text": [
            "Accuracy without scaling: 1.00\n",
            "Accuracy with scaling:    1.00\n"
          ]
        }
      ]
    },
    {
      "cell_type": "code",
      "source": [
        "# 24. Write a Python program to train a Decision Tree Classifier using One-vs-Rest (OvR) strategy for multiclass classification\n",
        "\n",
        "from sklearn.datasets import load_iris\n",
        "from sklearn.tree import DecisionTreeClassifier\n",
        "from sklearn.multiclass import OneVsRestClassifier\n",
        "from sklearn.model_selection import train_test_split\n",
        "from sklearn.metrics import accuracy_score\n",
        "\n",
        "# Load the Iris dataset\n",
        "iris = load_iris()\n",
        "X = iris.data\n",
        "y = iris.target\n",
        "\n",
        "# Train/test split\n",
        "X_train, X_test, y_train, y_test = train_test_split(X, y, test_size=0.2, random_state=42)\n",
        "\n",
        "# Train Decision Tree Classifier using One-vs-Rest strategy\n",
        "clf = OneVsRestClassifier(DecisionTreeClassifier(random_state=42))\n",
        "clf.fit(X_train, y_train)\n",
        "\n",
        "# Predict and calculate accuracy\n",
        "y_pred = clf.predict(X_test)\n",
        "acc = accuracy_score(y_test, y_pred)\n",
        "\n",
        "# Print the accuracy\n",
        "print(f\"Accuracy with One-vs-Rest strategy: {acc:.2f}\")\n"
      ],
      "metadata": {
        "colab": {
          "base_uri": "https://localhost:8080/"
        },
        "id": "MDatYJmbL0gV",
        "outputId": "4e7c1e56-1139-420a-8600-0b244577536a"
      },
      "execution_count": 10,
      "outputs": [
        {
          "output_type": "stream",
          "name": "stdout",
          "text": [
            "Accuracy with One-vs-Rest strategy: 1.00\n"
          ]
        }
      ]
    },
    {
      "cell_type": "code",
      "source": [
        "# 25. Write a Python program to train a Decision Tree Classifier and display the feature importance scores\n",
        "\n",
        "from sklearn.datasets import load_iris\n",
        "from sklearn.tree import DecisionTreeClassifier\n",
        "\n",
        "# Load the Iris dataset\n",
        "iris = load_iris()\n",
        "X = iris.data\n",
        "y = iris.target\n",
        "\n",
        "# Train a Decision Tree Classifier\n",
        "clf = DecisionTreeClassifier(random_state=42)\n",
        "clf.fit(X, y)\n",
        "\n",
        "# Display the feature importance scores\n",
        "print(\"Feature Importance Scores:\")\n",
        "for feature_name, importance in zip(iris.feature_names, clf.feature_importances_):\n",
        "    print(f\"{feature_name}: {importance:.4f}\")\n"
      ],
      "metadata": {
        "colab": {
          "base_uri": "https://localhost:8080/"
        },
        "id": "M_92LxEjL91U",
        "outputId": "2c381bbf-c181-42df-babc-77cd8fb424be"
      },
      "execution_count": 11,
      "outputs": [
        {
          "output_type": "stream",
          "name": "stdout",
          "text": [
            "Feature Importance Scores:\n",
            "sepal length (cm): 0.0133\n",
            "sepal width (cm): 0.0000\n",
            "petal length (cm): 0.5641\n",
            "petal width (cm): 0.4226\n"
          ]
        }
      ]
    },
    {
      "cell_type": "code",
      "source": [
        "# 26. Write a Python program to train a Decision Tree Regressor with max_depth=5 and compare its performance with an unrestricted tree\n",
        "\n",
        "from sklearn.datasets import fetch_california_housing\n",
        "from sklearn.tree import DecisionTreeRegressor\n",
        "from sklearn.model_selection import train_test_split\n",
        "from sklearn.metrics import mean_squared_error\n",
        "\n",
        "# Load the California housing dataset\n",
        "housing = fetch_california_housing()\n",
        "X = housing.data\n",
        "y = housing.target\n",
        "\n",
        "# Train/test split\n",
        "X_train, X_test, y_train, y_test = train_test_split(X, y, test_size=0.2, random_state=42)\n",
        "\n",
        "# Train Decision Tree Regressor with max_depth=5\n",
        "regressor_limited = DecisionTreeRegressor(max_depth=5, random_state=42)\n",
        "regressor_limited.fit(X_train, y_train)\n",
        "y_pred_limited = regressor_limited.predict(X_test)\n",
        "mse_limited = mean_squared_error(y_test, y_pred_limited)\n",
        "\n",
        "# Train unrestricted Decision Tree Regressor\n",
        "regressor_full = DecisionTreeRegressor(random_state=42)\n",
        "regressor_full.fit(X_train, y_train)\n",
        "y_pred_full = regressor_full.predict(X_test)\n",
        "mse_full = mean_squared_error(y_test, y_pred_full)\n",
        "\n",
        "# Print comparison of MSE\n",
        "print(f\"Mean Squared Error with max_depth=5: {mse_limited:.2f}\")\n",
        "print(f\"Mean Squared Error with full tree:   {mse_full:.2f}\")\n"
      ],
      "metadata": {
        "colab": {
          "base_uri": "https://localhost:8080/"
        },
        "id": "gTzPv1AYMGJr",
        "outputId": "7840366a-24e2-41b3-cda7-47cfe5a6dfc6"
      },
      "execution_count": 12,
      "outputs": [
        {
          "output_type": "stream",
          "name": "stdout",
          "text": [
            "Mean Squared Error with max_depth=5: 0.52\n",
            "Mean Squared Error with full tree:   0.50\n"
          ]
        }
      ]
    },
    {
      "cell_type": "code",
      "source": [
        "# 27. Write a Python program to train a Decision Tree Classifier, apply Cost Complexity Pruning (CCP), and visualize its effect on accuracy\n",
        "\n",
        "from sklearn.datasets import load_iris\n",
        "from sklearn.tree import DecisionTreeClassifier, plot_tree\n",
        "from sklearn.model_selection import train_test_split\n",
        "from sklearn.metrics import accuracy_score\n",
        "import matplotlib.pyplot as plt\n",
        "\n",
        "# Load Iris dataset\n",
        "iris = load_iris()\n",
        "X = iris.data\n",
        "y = iris.target\n",
        "\n",
        "# Train/test split\n",
        "X_train, X_test, y_train, y_test = train_test_split(X, y, test_size=0.2, random_state=42)\n",
        "\n",
        "# Train a Decision Tree Classifier (Unpruned)\n",
        "clf_full = DecisionTreeClassifier(random_state=42)\n",
        "clf_full.fit(X_train, y_train)\n",
        "\n",
        "# Predict and calculate accuracy for the full tree\n",
        "y_pred_full = clf_full.predict(X_test)\n",
        "acc_full = accuracy_score(y_test, y_pred_full)\n",
        "\n",
        "# Apply Cost Complexity Pruning (CCP)\n",
        "path = clf_full.cost_complexity_pruning_path(X_train, y_train)\n",
        "ccp_alphas, impurities = path.ccp_alphas, path.impurities\n",
        "\n",
        "# Visualize the effect of pruning on accuracy\n",
        "acc_pruned = []\n",
        "for ccp_alpha in ccp_alphas:\n",
        "    clf_pruned = DecisionTreeClassifier(random_state=42, ccp_alpha=ccp_alpha)\n",
        "    clf_pruned.fit(X_train, y_train)\n",
        "    y_pred_pruned = clf_pruned.predict(X_test)\n",
        "    acc_pruned.append(accuracy_score(y_test, y_pred_pruned))\n",
        "\n",
        "# Plotting the accuracy vs ccp_alpha\n",
        "plt.plot(ccp_alphas, acc_pruned, label=\"Pruned Tree Accuracy\")\n",
        "plt.axhline(acc_full, color=\"red\", linestyle=\"--\", label=\"Full Tree Accuracy\")\n",
        "plt.xlabel(\"CCP Alpha\")\n",
        "plt.ylabel(\"Accuracy\")\n",
        "plt.title(\"Effect of Cost Complexity Pruning on Accuracy\")\n",
        "plt.legend()\n",
        "plt.show()\n",
        "\n",
        "# Print the accuracy of the full tree and pruned trees\n",
        "print(f\"Accuracy of full tree: {acc_full:.2f}\")\n"
      ],
      "metadata": {
        "colab": {
          "base_uri": "https://localhost:8080/",
          "height": 489
        },
        "id": "Wi2Az4PeMQDr",
        "outputId": "173dc049-500d-4b86-d0c8-dec6730322b9"
      },
      "execution_count": 13,
      "outputs": [
        {
          "output_type": "display_data",
          "data": {
            "text/plain": [
              "<Figure size 640x480 with 1 Axes>"
            ],
            "image/png": "[encoded data removed]"
          },
          "metadata": {}
        },
        {
          "output_type": "stream",
          "name": "stdout",
          "text": [
            "Accuracy of full tree: 1.00\n"
          ]
        }
      ]
    },
    {
      "cell_type": "code",
      "source": [
        "# 28. Write a Python program to train a Decision Tree Classifier and evaluate its performance using Precision, Recall, and F1-Score\n",
        "\n",
        "from sklearn.datasets import load_iris\n",
        "from sklearn.tree import DecisionTreeClassifier\n",
        "from sklearn.model_selection import train_test_split\n",
        "from sklearn.metrics import precision_score, recall_score, f1_score\n",
        "\n",
        "# Load the Iris dataset\n",
        "iris = load_iris()\n",
        "X = iris.data\n",
        "y = iris.target\n",
        "\n",
        "# Train/test split\n",
        "X_train, X_test, y_train, y_test = train_test_split(X, y, test_size=0.2, random_state=42)\n",
        "\n",
        "# Train the Decision Tree Classifier\n",
        "clf = DecisionTreeClassifier(random_state=42)\n",
        "clf.fit(X_train, y_train)\n",
        "\n",
        "# Predict on the test data\n",
        "y_pred = clf.predict(X_test)\n",
        "\n",
        "# Evaluate performance using Precision, Recall, and F1-Score\n",
        "precision = precision_score(y_test, y_pred, average='weighted')\n",
        "recall = recall_score(y_test, y_pred, average='weighted')\n",
        "f1 = f1_score(y_test, y_pred, average='weighted')\n",
        "\n",
        "# Print the metrics\n",
        "print(f\"Precision: {precision:.2f}\")\n",
        "print(f\"Recall: {recall:.2f}\")\n",
        "print(f\"F1-Score: {f1:.2f}\")\n"
      ],
      "metadata": {
        "colab": {
          "base_uri": "https://localhost:8080/"
        },
        "id": "VvwvqyjUMciS",
        "outputId": "c9d33305-e1b4-40d2-a8b4-e16f2dfe624c"
      },
      "execution_count": 14,
      "outputs": [
        {
          "output_type": "stream",
          "name": "stdout",
          "text": [
            "Precision: 1.00\n",
            "Recall: 1.00\n",
            "F1-Score: 1.00\n"
          ]
        }
      ]
    },
    {
      "cell_type": "code",
      "source": [
        "# 29. Write a Python program to train a Decision Tree Classifier and visualize the confusion matrix using seaborn\n",
        "\n",
        "from sklearn.datasets import load_iris\n",
        "from sklearn.tree import DecisionTreeClassifier\n",
        "from sklearn.model_selection import train_test_split\n",
        "from sklearn.metrics import confusion_matrix\n",
        "import seaborn as sns\n",
        "import matplotlib.pyplot as plt\n",
        "\n",
        "# Load Iris dataset\n",
        "iris = load_iris()\n",
        "X = iris.data\n",
        "y = iris.target\n",
        "\n",
        "# Train/test split\n",
        "X_train, X_test, y_train, y_test = train_test_split(X, y, test_size=0.2, random_state=42)\n",
        "\n",
        "# Train the Decision Tree Classifier\n",
        "clf = DecisionTreeClassifier(random_state=42)\n",
        "clf.fit(X_train, y_train)\n",
        "\n",
        "# Predict on the test data\n",
        "y_pred = clf.predict(X_test)\n",
        "\n",
        "# Compute the confusion matrix\n",
        "cm = confusion_matrix(y_test, y_pred)\n",
        "\n",
        "# Visualize the confusion matrix using Seaborn\n",
        "plt.figure(figsize=(8, 6))\n",
        "sns.heatmap(cm, annot=True, fmt='d', cmap='Blues', xticklabels=iris.target_names, yticklabels=iris.target_names)\n",
        "plt.title(\"Confusion Matrix\")\n",
        "plt.xlabel(\"Predicted\")\n",
        "plt.ylabel(\"Actual\")\n",
        "plt.show()\n"
      ],
      "metadata": {
        "colab": {
          "base_uri": "https://localhost:8080/",
          "height": 564
        },
        "id": "lLVZXklbMm_t",
        "outputId": "aa5e21d4-90c1-4b56-b7d2-fc80b2b9a339"
      },
      "execution_count": 15,
      "outputs": [
        {
          "output_type": "display_data",
          "data": {
            "text/plain": [
              "<Figure size 800x600 with 2 Axes>"
            ],
            "image/png": "[encoded data removed]"
          },
          "metadata": {}
        }
      ]
    },
    {
      "cell_type": "code",
      "source": [
        "# 30. Write a Python program to train a Decision Tree Classifier and use GridSearchCV to find the optimal values for max_depth and min_samples_split\n",
        "\n",
        "from sklearn.datasets import load_iris\n",
        "from sklearn.tree import DecisionTreeClassifier\n",
        "from sklearn.model_selection import train_test_split, GridSearchCV\n",
        "from sklearn.metrics import accuracy_score\n",
        "\n",
        "# Load Iris dataset\n",
        "iris = load_iris()\n",
        "X = iris.data\n",
        "y = iris.target\n",
        "\n",
        "# Train/test split\n",
        "X_train, X_test, y_train, y_test = train_test_split(X, y, test_size=0.2, random_state=42)\n",
        "\n",
        "# Initialize the Decision Tree Classifier\n",
        "clf = DecisionTreeClassifier(random_state=42)\n",
        "\n",
        "# Define the parameter grid for max_depth and min_samples_split\n",
        "param_grid = {\n",
        "    'max_depth': [3, 5, 10, None],\n",
        "    'min_samples_split': [2, 5, 10]\n",
        "}\n",
        "\n",
        "# Initialize GridSearchCV with 5-fold cross-validation\n",
        "grid_search = GridSearchCV(estimator=clf, param_grid=param_grid, cv=5, scoring='accuracy')\n",
        "\n",
        "# Fit GridSearchCV to the training data\n",
        "grid_search.fit(X_train, y_train)\n",
        "\n",
        "# Get the best parameters and the corresponding accuracy\n",
        "best_params = grid_search.best_params_\n",
        "best_score = grid_search.best_score_\n",
        "\n",
        "# Predict on the test data using the best model\n",
        "best_model = grid_search.best_estimator_\n",
        "y_pred = best_model.predict(X_test)\n",
        "\n",
        "# Calculate accuracy on the test set\n",
        "test_accuracy = accuracy_score(y_test, y_pred)\n",
        "\n",
        "# Print results\n",
        "print(f\"Best parameters found: {best_params}\")\n",
        "print(f\"Best cross-validation accuracy: {best_score:.2f}\")\n",
        "print(f\"Test accuracy with the best model: {test_accuracy:.2f}\")\n"
      ],
      "metadata": {
        "colab": {
          "base_uri": "https://localhost:8080/"
        },
        "id": "VkBZCdf3MuOG",
        "outputId": "462fcd05-baae-45be-b50e-77a6a830ba89"
      },
      "execution_count": 16,
      "outputs": [
        {
          "output_type": "stream",
          "name": "stdout",
          "text": [
            "Best parameters found: {'max_depth': 10, 'min_samples_split': 2}\n",
            "Best cross-validation accuracy: 0.94\n",
            "Test accuracy with the best model: 1.00\n"
          ]
        }
      ]
    },
    {
      "cell_type": "code",
      "source": [],
      "metadata": {
        "id": "akY6Qms8M755"
      },
      "execution_count": null,
      "outputs": []
    }
  ]
}